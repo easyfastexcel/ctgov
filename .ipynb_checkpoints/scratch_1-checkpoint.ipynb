{
 "cells": [
  {
   "cell_type": "code",
   "execution_count": 5,
   "metadata": {
    "collapsed": true
   },
   "outputs": [],
   "source": [
    "import ctgov"
   ]
  },
  {
   "cell_type": "code",
   "execution_count": 6,
   "metadata": {
    "collapsed": true
   },
   "outputs": [],
   "source": [
    "d = ctgov.DataExtract()"
   ]
  },
  {
   "cell_type": "code",
   "execution_count": 7,
   "metadata": {},
   "outputs": [
    {
     "name": "stdout",
     "output_type": "stream",
     "text": [
      "[ 2017.12.10 23:34:20 ] pinging site for data...\n",
      "\n",
      "QUERY SEARCH AND DOWNLOAD FORMAT PARAMETERS:\n",
      "===========================================================\n",
      " query_param \n",
      "-----------------------------------------------------------\n",
      "{'param_cond': None,\n",
      " 'param_fund': None,\n",
      " 'param_intr': None,\n",
      " 'param_phase': None,\n",
      " 'param_rslt': None,\n",
      " 'param_spons': None,\n",
      " 'param_status': None,\n",
      " 'param_term': None,\n",
      " 'param_type': None}\n",
      "===========================================================\n",
      " basedl_param \n",
      "-----------------------------------------------------------\n",
      "{'down_chunk': 1, 'down_count': 10, 'down_flds': 'default', 'down_fmt': 'xml'}\n",
      "\n",
      "[ 2017.12.10 23:34:20 ] building url parameters for download formats (\"basedl\")...\n",
      "[ 2017.12.10 23:34:20 ] building url parameters for search results (\"query\")...\n",
      "[ 2017.12.10 23:34:20 ] building url for download...\n",
      "\n",
      "TOTAL SEARCH RESULTS:  260977\n",
      "TOTAL STUDIES EXTRACTED:  10 of 260977 \n",
      "\n"
     ]
    },
    {
     "data": {
      "text/plain": [
       "[{'@rank': '1',\n",
       "  'conditions': {'condition': 'Overweight and Obesity'},\n",
       "  'interventions': {'intervention': {'#text': 'rs662799 (APOA5 -1131T>C)',\n",
       "    '@type': 'Genetic'}},\n",
       "  'locations': None,\n",
       "  'recruitment': {'#text': 'Completed', '@open': 'N'},\n",
       "  'study_results': 'No Results Available',\n",
       "  'title': 'Longitudinal Interaction Between APOA5 -1131T>C and Overweight Accelerates Arterial Stiffness',\n",
       "  'url': 'https://ClinicalTrials.gov/show/NCT03367598'},\n",
       " {'@rank': '2',\n",
       "  'conditions': {'condition': ['Osteoporosis, Osteopenia',\n",
       "    'Osteoporosis, Postmenopausal']},\n",
       "  'interventions': {'intervention': [{'#text': 'Physical exercise + Vitamin D3',\n",
       "     '@type': 'Dietary Supplement'},\n",
       "    {'#text': 'Physical exercise', '@type': 'Other'}]},\n",
       "  'locations': {'location': 'Julia Maria DÀndrea Greve, São Paulo, Brazil'},\n",
       "  'recruitment': {'#text': 'Recruiting', '@open': 'Y'},\n",
       "  'study_results': 'No Results Available',\n",
       "  'title': 'Vitamin D Supplementation Effects on the Training Muscle Strength and Balance',\n",
       "  'url': 'https://ClinicalTrials.gov/show/NCT03367585'},\n",
       " {'@rank': '3',\n",
       "  'conditions': {'condition': 'Breast Carcinoma'},\n",
       "  'interventions': {'intervention': [{'#text': 'Dexamethasone',\n",
       "     '@type': 'Drug'},\n",
       "    {'#text': 'Laboratory Biomarker Analysis', '@type': 'Other'},\n",
       "    {'#text': 'Netupitant/Palonosetron Hydrochloride', '@type': 'Drug'},\n",
       "    {'#text': 'Olanzapine', '@type': 'Drug'},\n",
       "    {'#text': 'Placebo', '@type': 'Other'},\n",
       "    {'#text': 'Prochlorperazine', '@type': 'Drug'},\n",
       "    {'#text': 'Quality-of-Life Assessment', '@type': 'Other'}]},\n",
       "  'locations': {'location': 'University of Rochester NCORP Research Base, Rochester, New York, United States'},\n",
       "  'recruitment': {'#text': 'Not yet recruiting', '@open': 'Y'},\n",
       "  'study_results': 'No Results Available',\n",
       "  'title': 'Netupitant/Palonosetron Hydrochloride and Dexamethasone With or Without Prochlorperazine or Olanzapine in Improving Chemotherapy-Induced Nausea and Vomiting in Patients With Breast Cancer',\n",
       "  'url': 'https://ClinicalTrials.gov/show/NCT03367572'},\n",
       " {'@rank': '4',\n",
       "  'conditions': {'condition': 'Rotavirus Infections'},\n",
       "  'interventions': {'intervention': {'#text': 'ROTAVAC®',\n",
       "    '@type': 'Biological'}},\n",
       "  'locations': {'location': 'Thai Binh Health Center, Thái Bình, Vietnam'},\n",
       "  'recruitment': {'#text': 'Enrolling by invitation', '@open': 'N'},\n",
       "  'study_results': 'No Results Available',\n",
       "  'title': 'Evaluate Immunogenicity, Safety, and Reactogenicity of Rotavac® in Healthy Infants Aged Between 6-8 Weeks in Vietnam',\n",
       "  'url': 'https://ClinicalTrials.gov/show/NCT03367559'},\n",
       " {'@rank': '5',\n",
       "  'conditions': {'condition': ['Sickle Cell Disease',\n",
       "    'Thalassemia',\n",
       "    'High Risk Hematologic Disorders',\n",
       "    'Cerebral Adrenoleukodystrophy',\n",
       "    'Inherited Metabolic Disorders']},\n",
       "  'interventions': {'intervention': {'#text': 'Blood and Marrow Transplant',\n",
       "    '@type': 'Procedure'}},\n",
       "  'locations': None,\n",
       "  'recruitment': {'#text': 'Not yet recruiting', '@open': 'Y'},\n",
       "  'study_results': 'No Results Available',\n",
       "  'title': 'Haplo Allo HSCT Following RIC for Selected High Risk Non-Malignant Diseases',\n",
       "  'url': 'https://ClinicalTrials.gov/show/NCT03367546'},\n",
       " {'@rank': '6',\n",
       "  'conditions': {'condition': 'Depressive Disorder, Major'},\n",
       "  'interventions': {'intervention': [{'#text': 'Ketamine', '@type': 'Drug'},\n",
       "    {'#text': 'Perampanel', '@type': 'Drug'},\n",
       "    {'#text': 'Placebo', '@type': 'Drug'}]},\n",
       "  'locations': None,\n",
       "  'recruitment': {'#text': 'Not yet recruiting', '@open': 'Y'},\n",
       "  'study_results': 'No Results Available',\n",
       "  'title': 'Alpha-Amino-3-Hydroxy-5-Methyl-4- Isoxazole Propionic Acid Receptor Components of the Anti-Depressant Ketamine Response',\n",
       "  'url': 'https://ClinicalTrials.gov/show/NCT03367533'},\n",
       " {'@rank': '7',\n",
       "  'conditions': {'condition': 'StayQuit Intervention'},\n",
       "  'interventions': {'intervention': {'#text': 'StayQuit',\n",
       "    '@type': 'Behavioral'}},\n",
       "  'locations': {'location': 'Baltimore VA Medical Center, Baltimore, Maryland, United States'},\n",
       "  'recruitment': {'#text': 'Recruiting', '@open': 'Y'},\n",
       "  'study_results': 'No Results Available',\n",
       "  'title': 'Helping Veterans With SMI \"StayQuit\" From Smoking After Inpatient Hospitalization',\n",
       "  'url': 'https://ClinicalTrials.gov/show/NCT03367520'},\n",
       " {'@rank': '8',\n",
       "  'conditions': {'condition': ['Physiological Post-Concussion Disorder',\n",
       "    'Post-Concussion Syndrome',\n",
       "    'Traumatic Brain Injury',\n",
       "    'Rehabilitation',\n",
       "    'Aerobic Exercise',\n",
       "    'Concussion, Brain']},\n",
       "  'interventions': {'intervention': {'#text': 'Sub-symptom aerobic exercise',\n",
       "    '@type': 'Behavioral'}},\n",
       "  'locations': {'location': ['University of Calgary, Calgary, Alberta, Canada',\n",
       "    'Pan Am Sports Medicine Clinic, Winnipeg, Manitoba, Canada']},\n",
       "  'recruitment': {'#text': 'Not yet recruiting', '@open': 'Y'},\n",
       "  'study_results': 'No Results Available',\n",
       "  'title': 'Sub-maximal Exercise Prescription in Adolescents With Physiological Post-concussion Disorder',\n",
       "  'url': 'https://ClinicalTrials.gov/show/NCT03367507'},\n",
       " {'@rank': '9',\n",
       "  'conditions': {'condition': 'Cystic Fibrosis'},\n",
       "  'interventions': {'intervention': {'#text': 'Measurement of Sweat Chloride and Sweat Bromide',\n",
       "    '@type': 'Diagnostic Test'}},\n",
       "  'locations': None,\n",
       "  'recruitment': {'#text': 'Not yet recruiting', '@open': 'Y'},\n",
       "  'study_results': 'No Results Available',\n",
       "  'title': 'A New Optical Sweat Test Method Based on a Citric Acid-derived Multi-halide Sensor',\n",
       "  'url': 'https://ClinicalTrials.gov/show/NCT03367494'},\n",
       " {'@rank': '10',\n",
       "  'conditions': {'condition': ['Gingival Recession',\n",
       "    'Gingival Abrasion',\n",
       "    'Wounds and Injuries']},\n",
       "  'interventions': {'intervention': {'#text': 'Toothbrush type',\n",
       "    '@type': 'Device'}},\n",
       "  'locations': {'location': 'Federal University of Rio Grande do Sul, Porto Alegre, Rio Grande Do Sul, Brazil'},\n",
       "  'recruitment': {'#text': 'Not yet recruiting', '@open': 'Y'},\n",
       "  'study_results': 'No Results Available',\n",
       "  'title': 'Evaluation of Gingival Fissures Associated With Soft and Medium Toothbrushes',\n",
       "  'url': 'https://ClinicalTrials.gov/show/NCT03367481'}]"
      ]
     },
     "execution_count": 7,
     "metadata": {},
     "output_type": "execute_result"
    }
   ],
   "source": [
    "d.get_list_of_studies_in_json()"
   ]
  },
  {
   "cell_type": "code",
   "execution_count": 8,
   "metadata": {},
   "outputs": [
    {
     "name": "stdout",
     "output_type": "stream",
     "text": [
      "[ 2017.12.10 23:34:24 ] pinging site for data...\n",
      "\n",
      "QUERY SEARCH AND DOWNLOAD FORMAT PARAMETERS:\n",
      "===========================================================\n",
      " query_param \n",
      "-----------------------------------------------------------\n",
      "{'param_cond': None,\n",
      " 'param_fund': None,\n",
      " 'param_intr': None,\n",
      " 'param_phase': None,\n",
      " 'param_rslt': None,\n",
      " 'param_spons': None,\n",
      " 'param_status': None,\n",
      " 'param_term': None,\n",
      " 'param_type': None}\n",
      "===========================================================\n",
      " basedl_param \n",
      "-----------------------------------------------------------\n",
      "{'down_chunk': 1, 'down_count': 10, 'down_flds': 'default', 'down_fmt': 'xml'}\n",
      "\n",
      "[ 2017.12.10 23:34:24 ] building url parameters for download formats (\"basedl\")...\n",
      "[ 2017.12.10 23:34:24 ] building url parameters for search results (\"query\")...\n",
      "[ 2017.12.10 23:34:24 ] building url for download...\n",
      "\n",
      "TOTAL SEARCH RESULTS:  260977\n",
      "TOTAL STUDIES EXTRACTED:  10 of 260977 \n",
      "\n"
     ]
    },
    {
     "data": {
      "text/plain": [
       "[{'@rank': '1',\n",
       "  'conditions': {'condition': 'Overweight and Obesity'},\n",
       "  'interventions': {'intervention': {'#text': 'rs662799 (APOA5 -1131T>C)',\n",
       "    '@type': 'Genetic'}},\n",
       "  'locations': None,\n",
       "  'recruitment': {'#text': 'Completed', '@open': 'N'},\n",
       "  'study_results': 'No Results Available',\n",
       "  'title': 'Longitudinal Interaction Between APOA5 -1131T>C and Overweight Accelerates Arterial Stiffness',\n",
       "  'url': 'https://ClinicalTrials.gov/show/NCT03367598'},\n",
       " {'@rank': '2',\n",
       "  'conditions': {'condition': ['Osteoporosis, Osteopenia',\n",
       "    'Osteoporosis, Postmenopausal']},\n",
       "  'interventions': {'intervention': [{'#text': 'Physical exercise + Vitamin D3',\n",
       "     '@type': 'Dietary Supplement'},\n",
       "    {'#text': 'Physical exercise', '@type': 'Other'}]},\n",
       "  'locations': {'location': 'Julia Maria DÀndrea Greve, São Paulo, Brazil'},\n",
       "  'recruitment': {'#text': 'Recruiting', '@open': 'Y'},\n",
       "  'study_results': 'No Results Available',\n",
       "  'title': 'Vitamin D Supplementation Effects on the Training Muscle Strength and Balance',\n",
       "  'url': 'https://ClinicalTrials.gov/show/NCT03367585'},\n",
       " {'@rank': '3',\n",
       "  'conditions': {'condition': 'Breast Carcinoma'},\n",
       "  'interventions': {'intervention': [{'#text': 'Dexamethasone',\n",
       "     '@type': 'Drug'},\n",
       "    {'#text': 'Laboratory Biomarker Analysis', '@type': 'Other'},\n",
       "    {'#text': 'Netupitant/Palonosetron Hydrochloride', '@type': 'Drug'},\n",
       "    {'#text': 'Olanzapine', '@type': 'Drug'},\n",
       "    {'#text': 'Placebo', '@type': 'Other'},\n",
       "    {'#text': 'Prochlorperazine', '@type': 'Drug'},\n",
       "    {'#text': 'Quality-of-Life Assessment', '@type': 'Other'}]},\n",
       "  'locations': {'location': 'University of Rochester NCORP Research Base, Rochester, New York, United States'},\n",
       "  'recruitment': {'#text': 'Not yet recruiting', '@open': 'Y'},\n",
       "  'study_results': 'No Results Available',\n",
       "  'title': 'Netupitant/Palonosetron Hydrochloride and Dexamethasone With or Without Prochlorperazine or Olanzapine in Improving Chemotherapy-Induced Nausea and Vomiting in Patients With Breast Cancer',\n",
       "  'url': 'https://ClinicalTrials.gov/show/NCT03367572'},\n",
       " {'@rank': '4',\n",
       "  'conditions': {'condition': 'Rotavirus Infections'},\n",
       "  'interventions': {'intervention': {'#text': 'ROTAVAC®',\n",
       "    '@type': 'Biological'}},\n",
       "  'locations': {'location': 'Thai Binh Health Center, Thái Bình, Vietnam'},\n",
       "  'recruitment': {'#text': 'Enrolling by invitation', '@open': 'N'},\n",
       "  'study_results': 'No Results Available',\n",
       "  'title': 'Evaluate Immunogenicity, Safety, and Reactogenicity of Rotavac® in Healthy Infants Aged Between 6-8 Weeks in Vietnam',\n",
       "  'url': 'https://ClinicalTrials.gov/show/NCT03367559'},\n",
       " {'@rank': '5',\n",
       "  'conditions': {'condition': ['Sickle Cell Disease',\n",
       "    'Thalassemia',\n",
       "    'High Risk Hematologic Disorders',\n",
       "    'Cerebral Adrenoleukodystrophy',\n",
       "    'Inherited Metabolic Disorders']},\n",
       "  'interventions': {'intervention': {'#text': 'Blood and Marrow Transplant',\n",
       "    '@type': 'Procedure'}},\n",
       "  'locations': None,\n",
       "  'recruitment': {'#text': 'Not yet recruiting', '@open': 'Y'},\n",
       "  'study_results': 'No Results Available',\n",
       "  'title': 'Haplo Allo HSCT Following RIC for Selected High Risk Non-Malignant Diseases',\n",
       "  'url': 'https://ClinicalTrials.gov/show/NCT03367546'},\n",
       " {'@rank': '6',\n",
       "  'conditions': {'condition': 'Depressive Disorder, Major'},\n",
       "  'interventions': {'intervention': [{'#text': 'Ketamine', '@type': 'Drug'},\n",
       "    {'#text': 'Perampanel', '@type': 'Drug'},\n",
       "    {'#text': 'Placebo', '@type': 'Drug'}]},\n",
       "  'locations': None,\n",
       "  'recruitment': {'#text': 'Not yet recruiting', '@open': 'Y'},\n",
       "  'study_results': 'No Results Available',\n",
       "  'title': 'Alpha-Amino-3-Hydroxy-5-Methyl-4- Isoxazole Propionic Acid Receptor Components of the Anti-Depressant Ketamine Response',\n",
       "  'url': 'https://ClinicalTrials.gov/show/NCT03367533'},\n",
       " {'@rank': '7',\n",
       "  'conditions': {'condition': 'StayQuit Intervention'},\n",
       "  'interventions': {'intervention': {'#text': 'StayQuit',\n",
       "    '@type': 'Behavioral'}},\n",
       "  'locations': {'location': 'Baltimore VA Medical Center, Baltimore, Maryland, United States'},\n",
       "  'recruitment': {'#text': 'Recruiting', '@open': 'Y'},\n",
       "  'study_results': 'No Results Available',\n",
       "  'title': 'Helping Veterans With SMI \"StayQuit\" From Smoking After Inpatient Hospitalization',\n",
       "  'url': 'https://ClinicalTrials.gov/show/NCT03367520'},\n",
       " {'@rank': '8',\n",
       "  'conditions': {'condition': ['Physiological Post-Concussion Disorder',\n",
       "    'Post-Concussion Syndrome',\n",
       "    'Traumatic Brain Injury',\n",
       "    'Rehabilitation',\n",
       "    'Aerobic Exercise',\n",
       "    'Concussion, Brain']},\n",
       "  'interventions': {'intervention': {'#text': 'Sub-symptom aerobic exercise',\n",
       "    '@type': 'Behavioral'}},\n",
       "  'locations': {'location': ['University of Calgary, Calgary, Alberta, Canada',\n",
       "    'Pan Am Sports Medicine Clinic, Winnipeg, Manitoba, Canada']},\n",
       "  'recruitment': {'#text': 'Not yet recruiting', '@open': 'Y'},\n",
       "  'study_results': 'No Results Available',\n",
       "  'title': 'Sub-maximal Exercise Prescription in Adolescents With Physiological Post-concussion Disorder',\n",
       "  'url': 'https://ClinicalTrials.gov/show/NCT03367507'},\n",
       " {'@rank': '9',\n",
       "  'conditions': {'condition': 'Cystic Fibrosis'},\n",
       "  'interventions': {'intervention': {'#text': 'Measurement of Sweat Chloride and Sweat Bromide',\n",
       "    '@type': 'Diagnostic Test'}},\n",
       "  'locations': None,\n",
       "  'recruitment': {'#text': 'Not yet recruiting', '@open': 'Y'},\n",
       "  'study_results': 'No Results Available',\n",
       "  'title': 'A New Optical Sweat Test Method Based on a Citric Acid-derived Multi-halide Sensor',\n",
       "  'url': 'https://ClinicalTrials.gov/show/NCT03367494'},\n",
       " {'@rank': '10',\n",
       "  'conditions': {'condition': ['Gingival Recession',\n",
       "    'Gingival Abrasion',\n",
       "    'Wounds and Injuries']},\n",
       "  'interventions': {'intervention': {'#text': 'Toothbrush type',\n",
       "    '@type': 'Device'}},\n",
       "  'locations': {'location': 'Federal University of Rio Grande do Sul, Porto Alegre, Rio Grande Do Sul, Brazil'},\n",
       "  'recruitment': {'#text': 'Not yet recruiting', '@open': 'Y'},\n",
       "  'study_results': 'No Results Available',\n",
       "  'title': 'Evaluation of Gingival Fissures Associated With Soft and Medium Toothbrushes',\n",
       "  'url': 'https://ClinicalTrials.gov/show/NCT03367481'}]"
      ]
     },
     "execution_count": 8,
     "metadata": {},
     "output_type": "execute_result"
    }
   ],
   "source": [
    "d.get_list_of_studies_in_json()"
   ]
  },
  {
   "cell_type": "code",
   "execution_count": null,
   "metadata": {
    "collapsed": true
   },
   "outputs": [],
   "source": []
  },
  {
   "cell_type": "code",
   "execution_count": 9,
   "metadata": {},
   "outputs": [
    {
     "name": "stdout",
     "output_type": "stream",
     "text": [
      "6\n"
     ]
    }
   ],
   "source": [
    "i = 3+3\n",
    "print(i)"
   ]
  },
  {
   "cell_type": "code",
   "execution_count": null,
   "metadata": {
    "collapsed": true
   },
   "outputs": [],
   "source": []
  },
  {
   "cell_type": "code",
   "execution_count": null,
   "metadata": {
    "collapsed": true
   },
   "outputs": [],
   "source": []
  },
  {
   "cell_type": "code",
   "execution_count": null,
   "metadata": {
    "collapsed": true
   },
   "outputs": [],
   "source": []
  },
  {
   "cell_type": "code",
   "execution_count": null,
   "metadata": {
    "collapsed": true
   },
   "outputs": [],
   "source": []
  },
  {
   "cell_type": "code",
   "execution_count": null,
   "metadata": {
    "collapsed": true
   },
   "outputs": [],
   "source": []
  },
  {
   "cell_type": "code",
   "execution_count": null,
   "metadata": {
    "collapsed": true
   },
   "outputs": [],
   "source": []
  },
  {
   "cell_type": "code",
   "execution_count": null,
   "metadata": {
    "collapsed": true
   },
   "outputs": [],
   "source": []
  },
  {
   "cell_type": "code",
   "execution_count": null,
   "metadata": {
    "collapsed": true
   },
   "outputs": [],
   "source": []
  },
  {
   "cell_type": "code",
   "execution_count": null,
   "metadata": {
    "collapsed": true
   },
   "outputs": [],
   "source": []
  },
  {
   "cell_type": "code",
   "execution_count": null,
   "metadata": {
    "collapsed": true
   },
   "outputs": [],
   "source": []
  },
  {
   "cell_type": "code",
   "execution_count": null,
   "metadata": {
    "collapsed": true
   },
   "outputs": [],
   "source": []
  },
  {
   "cell_type": "code",
   "execution_count": null,
   "metadata": {
    "collapsed": true
   },
   "outputs": [],
   "source": []
  },
  {
   "cell_type": "code",
   "execution_count": null,
   "metadata": {
    "collapsed": true
   },
   "outputs": [],
   "source": []
  },
  {
   "cell_type": "code",
   "execution_count": null,
   "metadata": {
    "collapsed": true
   },
   "outputs": [],
   "source": []
  },
  {
   "cell_type": "code",
   "execution_count": null,
   "metadata": {
    "collapsed": true
   },
   "outputs": [],
   "source": []
  },
  {
   "cell_type": "code",
   "execution_count": null,
   "metadata": {
    "collapsed": true
   },
   "outputs": [],
   "source": []
  },
  {
   "cell_type": "code",
   "execution_count": null,
   "metadata": {
    "collapsed": true
   },
   "outputs": [],
   "source": []
  },
  {
   "cell_type": "code",
   "execution_count": null,
   "metadata": {
    "collapsed": true
   },
   "outputs": [],
   "source": []
  },
  {
   "cell_type": "code",
   "execution_count": null,
   "metadata": {
    "collapsed": true
   },
   "outputs": [],
   "source": []
  },
  {
   "cell_type": "code",
   "execution_count": null,
   "metadata": {
    "collapsed": true
   },
   "outputs": [],
   "source": []
  },
  {
   "cell_type": "code",
   "execution_count": null,
   "metadata": {
    "collapsed": true
   },
   "outputs": [],
   "source": []
  },
  {
   "cell_type": "code",
   "execution_count": null,
   "metadata": {
    "collapsed": true
   },
   "outputs": [],
   "source": []
  },
  {
   "cell_type": "code",
   "execution_count": null,
   "metadata": {
    "collapsed": true
   },
   "outputs": [],
   "source": []
  },
  {
   "cell_type": "code",
   "execution_count": null,
   "metadata": {
    "collapsed": true
   },
   "outputs": [],
   "source": []
  },
  {
   "cell_type": "code",
   "execution_count": null,
   "metadata": {
    "collapsed": true
   },
   "outputs": [],
   "source": []
  },
  {
   "cell_type": "code",
   "execution_count": null,
   "metadata": {
    "collapsed": true
   },
   "outputs": [],
   "source": []
  },
  {
   "cell_type": "code",
   "execution_count": null,
   "metadata": {
    "collapsed": true
   },
   "outputs": [],
   "source": []
  },
  {
   "cell_type": "code",
   "execution_count": null,
   "metadata": {
    "collapsed": true
   },
   "outputs": [],
   "source": []
  },
  {
   "cell_type": "code",
   "execution_count": null,
   "metadata": {
    "collapsed": true
   },
   "outputs": [],
   "source": []
  },
  {
   "cell_type": "code",
   "execution_count": null,
   "metadata": {
    "collapsed": true
   },
   "outputs": [],
   "source": []
  },
  {
   "cell_type": "code",
   "execution_count": null,
   "metadata": {
    "collapsed": true
   },
   "outputs": [],
   "source": []
  },
  {
   "cell_type": "code",
   "execution_count": null,
   "metadata": {
    "collapsed": true
   },
   "outputs": [],
   "source": []
  },
  {
   "cell_type": "code",
   "execution_count": null,
   "metadata": {
    "collapsed": true
   },
   "outputs": [],
   "source": []
  },
  {
   "cell_type": "code",
   "execution_count": null,
   "metadata": {
    "collapsed": true
   },
   "outputs": [],
   "source": []
  },
  {
   "cell_type": "code",
   "execution_count": null,
   "metadata": {
    "collapsed": true
   },
   "outputs": [],
   "source": []
  },
  {
   "cell_type": "code",
   "execution_count": null,
   "metadata": {
    "collapsed": true
   },
   "outputs": [],
   "source": []
  },
  {
   "cell_type": "code",
   "execution_count": null,
   "metadata": {
    "collapsed": true
   },
   "outputs": [],
   "source": []
  },
  {
   "cell_type": "code",
   "execution_count": null,
   "metadata": {
    "collapsed": true
   },
   "outputs": [],
   "source": []
  },
  {
   "cell_type": "code",
   "execution_count": null,
   "metadata": {
    "collapsed": true
   },
   "outputs": [],
   "source": []
  },
  {
   "cell_type": "code",
   "execution_count": null,
   "metadata": {
    "collapsed": true
   },
   "outputs": [],
   "source": []
  },
  {
   "cell_type": "code",
   "execution_count": null,
   "metadata": {
    "collapsed": true
   },
   "outputs": [],
   "source": []
  },
  {
   "cell_type": "code",
   "execution_count": null,
   "metadata": {
    "collapsed": true
   },
   "outputs": [],
   "source": []
  },
  {
   "cell_type": "code",
   "execution_count": null,
   "metadata": {
    "collapsed": true
   },
   "outputs": [],
   "source": []
  },
  {
   "cell_type": "code",
   "execution_count": null,
   "metadata": {
    "collapsed": true
   },
   "outputs": [],
   "source": []
  },
  {
   "cell_type": "code",
   "execution_count": null,
   "metadata": {
    "collapsed": true
   },
   "outputs": [],
   "source": []
  },
  {
   "cell_type": "code",
   "execution_count": null,
   "metadata": {
    "collapsed": true
   },
   "outputs": [],
   "source": []
  },
  {
   "cell_type": "code",
   "execution_count": null,
   "metadata": {
    "collapsed": true
   },
   "outputs": [],
   "source": []
  },
  {
   "cell_type": "code",
   "execution_count": null,
   "metadata": {
    "collapsed": true
   },
   "outputs": [],
   "source": []
  },
  {
   "cell_type": "code",
   "execution_count": null,
   "metadata": {
    "collapsed": true
   },
   "outputs": [],
   "source": []
  },
  {
   "cell_type": "code",
   "execution_count": null,
   "metadata": {
    "collapsed": true
   },
   "outputs": [],
   "source": []
  }
 ],
 "metadata": {
  "kernelspec": {
   "display_name": "Python [default]",
   "language": "python",
   "name": "python3"
  },
  "language_info": {
   "codemirror_mode": {
    "name": "ipython",
    "version": 3
   },
   "file_extension": ".py",
   "mimetype": "text/x-python",
   "name": "python",
   "nbconvert_exporter": "python",
   "pygments_lexer": "ipython3",
   "version": "3.5.3"
  }
 },
 "nbformat": 4,
 "nbformat_minor": 2
}
